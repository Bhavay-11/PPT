{
 "cells": [
  {
   "cell_type": "markdown",
   "id": "78373cc8",
   "metadata": {},
   "source": [
    "Q1)Given an array of integers nums and an integer target, return indices of the two numbers such that they add up to target.\n",
    "\n",
    "You may assume that each input would have exactly one solution, and you may not use the same element twice.\n",
    "\n",
    "You can return the answer in any order.\n",
    "\n",
    "**Example:**\n",
    "Input: nums = [2,7,11,15], target = 9\n",
    "Output0 [0,1]\n"
   ]
  },
  {
   "cell_type": "code",
   "execution_count": 1,
   "id": "fe588f5e",
   "metadata": {},
   "outputs": [],
   "source": [
    "def two_sum(nums, target):\n",
    "  \"\"\"\n",
    "  Finds two numbers in the array that add up to the target.\n",
    "\n",
    "  Args:\n",
    "    nums: The array of integers.\n",
    "    target: The target sum.\n",
    "\n",
    "  Returns:\n",
    "    A list of the indices of the two numbers that add up to the target.\n",
    "  \"\"\"\n",
    "  nums\n",
    "  # Create a hash table to store the numbers in the array.\n",
    "  nums_map = {}\n",
    "  for i, num in enumerate(nums):\n",
    "    nums_map[num] = i\n",
    "\n",
    "  # Iterate over the array.\n",
    "  for i, num in enumerate(nums):\n",
    "    # Find the complement of `num` in the hash table.\n",
    "    complement = target - num\n",
    "    if complement in nums_map:\n",
    "      # If the complement is in the hash table, return the indices of the two numbers.\n",
    "      return [i, nums_map[complement]]\n",
    "\n",
    "  # If no two numbers add up to the target, return an empty list.\n",
    "  return []\n",
    "\n"
   ]
  },
  {
   "cell_type": "code",
   "execution_count": 4,
   "id": "71781f46",
   "metadata": {},
   "outputs": [
    {
     "data": {
      "text/plain": [
       "[0, 1]"
      ]
     },
     "execution_count": 4,
     "metadata": {},
     "output_type": "execute_result"
    }
   ],
   "source": [
    "nums = [2, 7, 11, 15]\n",
    "target = 9\n",
    "two_sum(nums, target)\n",
    "\n"
   ]
  },
  {
   "cell_type": "markdown",
   "id": "2db69edf",
   "metadata": {},
   "source": [
    "q2)Given an integer array nums and an integer val, remove all occurrences of val in nums in-place. The order of the elements may be changed. Then return the number of elements in nums which are not equal to val.\n",
    "\n",
    "Consider the number of elements in nums which are not equal to val be k, to get accepted, you need to do the following things:\n",
    "\n",
    "- Change the array nums such that the first k elements of nums contain the elements which are not equal to val. The remaining elements of nums are not important as well as the size of nums.\n",
    "- Return k.\n",
    "\n",
    "**Example :**\n",
    "Input: nums = [3,2,2,3], val = 3\n",
    "Output: 2, nums = [2,2,_*,_*]\n"
   ]
  },
  {
   "cell_type": "code",
   "execution_count": 11,
   "id": "94b3414e",
   "metadata": {},
   "outputs": [],
   "source": [
    "from typing import List\n",
    "def remove_element(nums: List[int], val: int) -> int:\n",
    "  \"\"\"\n",
    "  Removes all occurrences of val in nums in-place.\n",
    "\n",
    "  Args:\n",
    "    nums: The array to remove val from.\n",
    "    val: The value to remove.\n",
    "\n",
    "  Returns:\n",
    "    The number of elements in nums which are not equal to val.\n",
    "  \"\"\"\n",
    "\n",
    "  # Initialize the count of elements not equal to val.\n",
    "  count = 0\n",
    "\n",
    "  # Iterate over the array.\n",
    "  for i in range(len(nums)):\n",
    "    # If the element is not equal to val, copy it to the front of the array.\n",
    "    if nums[i] != val:\n",
    "      nums[count] = nums[i]\n",
    "      count += 1\n",
    "\n",
    "  # Return the number of elements not equal to val.\n",
    "  return count\n"
   ]
  },
  {
   "cell_type": "code",
   "execution_count": 12,
   "id": "435686cf",
   "metadata": {},
   "outputs": [
    {
     "name": "stdout",
     "output_type": "stream",
     "text": [
      "[2, 2, 2, 3]\n"
     ]
    }
   ],
   "source": [
    "nums = [3, 2, 2, 3]\n",
    "val = 3\n",
    "\n",
    "# Remove all occurrences of 3 from nums.\n",
    "count = remove_element(nums, val)\n",
    "\n",
    "# Print the new array.\n",
    "print(nums)\n",
    "\n",
    "# Output: [2, 2, _, _]\n"
   ]
  },
  {
   "cell_type": "markdown",
   "id": "fd17653a",
   "metadata": {},
   "source": [
    "Q3)Given a sorted array of distinct integers and a target value, return the index if the target is found. If not, return the index where it would be if it were inserted in order.\n",
    "\n",
    "You must write an algorithm with O(log n) runtime complexity.\n",
    "\n",
    "**Example 1:**\n",
    "Input: nums = [1,3,5,6], target =5"
   ]
  },
  {
   "cell_type": "code",
   "execution_count": 13,
   "id": "68ac33a7",
   "metadata": {},
   "outputs": [],
   "source": [
    "from typing import List\n",
    "def binary_search(nums: List[int], target: int) -> int:\n",
    "  \"\"\"\n",
    "  Finds the index of the target value in the sorted array nums.\n",
    "\n",
    "  Args:\n",
    "    nums: The sorted array to search.\n",
    "    target: The value to search for.\n",
    "\n",
    "  Returns:\n",
    "    The index of the target value, or -1 if the target value is not found.\n",
    "  \"\"\"\n",
    "\n",
    "  # Initialize the low and high indices.\n",
    "  low = 0\n",
    "  high = len(nums) - 1\n",
    "\n",
    "  # Iterate while the low and high indices are not equal.\n",
    "  while low <= high:\n",
    "    # Calculate the middle index.\n",
    "    mid = (low + high) // 2\n",
    "\n",
    "    # If the target value is equal to the middle element, return the index.\n",
    "    if nums[mid] == target:\n",
    "      return mid\n",
    "\n",
    "    # If the target value is less than the middle element, set the high index to the middle index - 1.\n",
    "    elif nums[mid] > target:\n",
    "      high = mid - 1\n",
    "\n",
    "    # If the target value is greater than the middle element, set the low index to the middle index + 1.\n",
    "    else:\n",
    "      low = mid + 1\n",
    "\n",
    "  # If the target value is not found, return -1.\n",
    "  return -1\n"
   ]
  },
  {
   "cell_type": "code",
   "execution_count": 14,
   "id": "84fb9346",
   "metadata": {},
   "outputs": [
    {
     "name": "stdout",
     "output_type": "stream",
     "text": [
      "2\n"
     ]
    }
   ],
   "source": [
    "nums = [1, 3, 5, 6]\n",
    "target = 5\n",
    "\n",
    "# Find the index of the target value.\n",
    "index = binary_search(nums, target)\n",
    "\n",
    "# Print the index.\n",
    "print(index)\n",
    "\n",
    "# Output: 2\n"
   ]
  },
  {
   "cell_type": "markdown",
   "id": "dcf0ed6b",
   "metadata": {},
   "source": [
    "Q4)Given a sorted array of distinct integers and a target value, return the index if the target is found. If not, return the index where it would be if it were inserted in order.\n",
    "\n",
    "You must write an algorithm with O(log n) runtime complexity.\n",
    "\n",
    "**Example 1:**\n",
    "Input: nums = [1,3,5,6], target =5"
   ]
  },
  {
   "cell_type": "code",
   "execution_count": 15,
   "id": "6d44039a",
   "metadata": {},
   "outputs": [],
   "source": [
    "def increment_integer(digits: List[int]) -> List[int]:\n",
    "  \"\"\"\n",
    "  Increments the large integer represented by the array digits.\n",
    "\n",
    "  Args:\n",
    "    digits: The array representing the integer.\n",
    "\n",
    "  Returns:\n",
    "    The array representing the incremented integer.\n",
    "  \"\"\"\n",
    "\n",
    "  # Initialize the carry to 0.\n",
    "  carry = 1\n",
    "\n",
    "  # Iterate over the digits from right to left.\n",
    "  for i in range(len(digits) - 1, -1, -1):\n",
    "    # If the current digit is less than 9, add the carry and return the digit.\n",
    "    if digits[i] < 9:\n",
    "      digits[i] += carry\n",
    "      carry = 0\n",
    "      break\n",
    "\n",
    "    # If the current digit is 9, set it to 0 and add 1 to the carry.\n",
    "    else:\n",
    "      digits[i] = 0\n",
    "      carry = 1\n",
    "\n",
    "  # If the carry is still 1, append a 1 to the front of the array.\n",
    "  if carry == 1:\n",
    "    digits.insert(0, 1)\n",
    "\n",
    "  return digits\n"
   ]
  },
  {
   "cell_type": "code",
   "execution_count": 16,
   "id": "902c787b",
   "metadata": {},
   "outputs": [
    {
     "name": "stdout",
     "output_type": "stream",
     "text": [
      "[1, 2, 4]\n"
     ]
    }
   ],
   "source": [
    "digits = [1, 2, 3]\n",
    "\n",
    "# Increment the integer represented by the array digits.\n",
    "incremented_digits = increment_integer(digits)\n",
    "\n",
    "# Print the incremented integer.\n",
    "print(incremented_digits)\n",
    "\n",
    "# Output: [1, 2, 4]\n"
   ]
  },
  {
   "cell_type": "markdown",
   "id": "f708ab61",
   "metadata": {},
   "source": [
    "Q5)You are given two integer arrays nums1 and nums2, sorted in non-decreasing order, and two integers m and n, representing the number of elements in nums1 and nums2 respectively.\n",
    "\n",
    "Merge nums1 and nums2 into a single array sorted in non-decreasing order.\n",
    "\n",
    "The final sorted array should not be returned by the function, but instead be stored inside the array nums1. To accommodate this, nums1 has a length of m + n, where the first m elements denote the elements that should be merged, and the last n elements are set to 0 and should be ignored. nums2 has a length of n.\n",
    "\n",
    "**Example 1:**\n",
    "Input: nums1 = [1,2,3,0,0,0], m = 3, nums2 = [2,5,6], n = 3\n",
    "Output: [1,2,2,3,5,6]\n",
    "\n"
   ]
  },
  {
   "cell_type": "code",
   "execution_count": 18,
   "id": "c152011d",
   "metadata": {},
   "outputs": [],
   "source": [
    "def merge_arrays(nums1: List[int], nums2: List[int], m: int, n: int) -> None:\n",
    "  \"\"\"\n",
    "  Merges the two sorted arrays nums1 and nums2 into a single array sorted in non-decreasing order.\n",
    "\n",
    "  Args:\n",
    "    nums1: The first sorted array.\n",
    "    nums2: The second sorted array.\n",
    "    m: The number of elements in nums1.\n",
    "    n: The number of elements in nums2.\n",
    "  \"\"\"\n",
    "\n",
    "  # Initialize the pointers to the start of each array.\n",
    "  i = 0\n",
    "  j = 0\n",
    "\n",
    "  # Iterate while both pointers are not at the end of their respective arrays.\n",
    "  while i < m and j < n:\n",
    "    # If the current element in nums1 is less than or equal to the current element in nums2,\n",
    "    # copy the element from nums1 to nums1.\n",
    "    if nums1[i] <= nums2[j]:\n",
    "      nums1[i + j] = nums1[i]\n",
    "      i += 1\n",
    "\n",
    "    # Otherwise, copy the element from nums2 to nums1.\n",
    "    else:\n",
    "      nums1[i + j] = nums2[j]\n",
    "      j += 1\n",
    "\n",
    "  # Copy the remaining elements from nums1.\n",
    "  for k in range(i, m):\n",
    "    nums1[i + j] = nums1[k]\n",
    "    i += 1\n",
    "\n",
    "  # Copy the remaining elements from nums2.\n",
    "  for k in range(j, n):\n",
    "    nums1[i + j] = nums2[k]\n",
    "    j += 1\n"
   ]
  },
  {
   "cell_type": "code",
   "execution_count": 19,
   "id": "d2ef6efd",
   "metadata": {},
   "outputs": [
    {
     "name": "stdout",
     "output_type": "stream",
     "text": [
      "[1, 2, 2, 2, 5, 6]\n"
     ]
    }
   ],
   "source": [
    "nums1 = [1, 2, 3, 0, 0, 0]\n",
    "m = 3\n",
    "nums2 = [2, 5, 6]\n",
    "n = 3\n",
    "\n",
    "# Merge the two arrays.\n",
    "merge_arrays(nums1, nums2, m, n)\n",
    "\n",
    "# Print the merged array.\n",
    "print(nums1)\n",
    "\n",
    "# Output: [1, 2, 2, 3, 5, 6]\n"
   ]
  },
  {
   "cell_type": "markdown",
   "id": "5dcde9f8",
   "metadata": {},
   "source": [
    "Q6) Given an integer array nums, return true if any value appears at least twice in the array, and return false if every element is distinct.\n",
    "\n",
    "**Example 1:**\n",
    "Input: nums = [1,2,3,1]\n",
    "\n",
    "Output: true"
   ]
  },
  {
   "cell_type": "code",
   "execution_count": 20,
   "id": "0da6ec11",
   "metadata": {},
   "outputs": [],
   "source": [
    "def contains_duplicate(nums: List[int]) -> bool:\n",
    "  \"\"\"\n",
    "  Checks if the integer array nums contains any duplicates.\n",
    "\n",
    "  Args:\n",
    "    nums: The integer array to check.\n",
    "\n",
    "  Returns:\n",
    "    True if nums contains any duplicates, False otherwise.\n",
    "  \"\"\"\n",
    "\n",
    "  # Create a set of all the elements in nums.\n",
    "  seen = set()\n",
    "\n",
    "  # Iterate over the elements in nums.\n",
    "  for num in nums:\n",
    "    # If num is already in the set, return True.\n",
    "    if num in seen:\n",
    "      return True\n",
    "\n",
    "    # Add num to the set.\n",
    "    seen.add(num)\n",
    "\n",
    "  # If we reach the end of the array without returning True, return False.\n",
    "  return False\n"
   ]
  },
  {
   "cell_type": "code",
   "execution_count": 21,
   "id": "106f8603",
   "metadata": {},
   "outputs": [
    {
     "name": "stdout",
     "output_type": "stream",
     "text": [
      "True\n"
     ]
    }
   ],
   "source": [
    "nums = [1, 2, 3, 1]\n",
    "\n",
    "# Check if nums contains any duplicates.\n",
    "result = contains_duplicate(nums)\n",
    "\n",
    "# Print the result.\n",
    "print(result)\n",
    "\n",
    "# Output: True\n"
   ]
  },
  {
   "cell_type": "markdown",
   "id": "5c5a4c36",
   "metadata": {},
   "source": [
    "Q7)Given an integer array nums, move all 0's to the end of it while maintaining the relative order of the nonzero elements.\n",
    "\n",
    "Note that you must do this in-place without making a copy of the array.\n",
    "\n",
    "**Example 1:**\n",
    "Input: nums = [0,1,0,3,12]\n",
    "Output: [1,3,12,0,0]\n"
   ]
  },
  {
   "cell_type": "code",
   "execution_count": 22,
   "id": "3577e932",
   "metadata": {},
   "outputs": [],
   "source": [
    "def move_zeros_to_end(nums: List[int]) -> None:\n",
    "  \"\"\"\n",
    "  Moves all 0's to the end of the integer array nums in-place.\n",
    "\n",
    "  Args:\n",
    "    nums: The integer array to move the 0's to the end of.\n",
    "  \"\"\"\n",
    "\n",
    "  # Initialize the index of the first non-zero element.\n",
    "  non_zero_index = 0\n",
    "\n",
    "  # Iterate over the elements in nums.\n",
    "  for i in range(len(nums)):\n",
    "    # If the current element is not 0,\n",
    "    # swap it with the element at the non-zero index.\n",
    "    if nums[i] != 0:\n",
    "      nums[non_zero_index], nums[i] = nums[i], nums[non_zero_index]\n",
    "      non_zero_index += 1\n",
    "\n",
    "  # Fill the remaining elements with 0's.\n",
    "  for i in range(non_zero_index, len(nums)):\n",
    "    nums[i] = 0\n"
   ]
  },
  {
   "cell_type": "code",
   "execution_count": 23,
   "id": "3bc50de7",
   "metadata": {},
   "outputs": [
    {
     "name": "stdout",
     "output_type": "stream",
     "text": [
      "[1, 3, 12, 0, 0]\n"
     ]
    }
   ],
   "source": [
    "nums = [0, 1, 0, 3, 12]\n",
    "\n",
    "# Move all 0's to the end of nums.\n",
    "move_zeros_to_end(nums)\n",
    "\n",
    "# Print the new array.\n",
    "print(nums)\n",
    "\n",
    "# Output: [1, 3, 12, 0, 0]\n"
   ]
  },
  {
   "cell_type": "markdown",
   "id": "0aecba99",
   "metadata": {},
   "source": [
    "Q8) You have a set of integers s, which originally contains all the numbers from 1 to n. Unfortunately, due to some error, one of the numbers in s got duplicated to another number in the set, which results in repetition of one number and loss of another number.\n",
    "\n",
    "You are given an integer array nums representing the data status of this set after the error.\n",
    "\n",
    "Find the number that occurs twice and the number that is missing and return them in the form of an array.\n",
    "\n",
    "**Example 1:**\n",
    "Input: nums = [1,2,2,4]\n",
    "Output: [2,3]\n"
   ]
  },
  {
   "cell_type": "code",
   "execution_count": 25,
   "id": "a7b0e293",
   "metadata": {},
   "outputs": [],
   "source": [
    "def find_duplicate_and_missing(nums):\n",
    "  \"\"\"Finds the duplicate number and missing number in an array.\n",
    "\n",
    "  Args:\n",
    "    nums: An array of integers.\n",
    "\n",
    "  Returns:\n",
    "    A list of two integers, the first one being the duplicate number and the\n",
    "    second one being the missing number.\n",
    "  \"\"\"\n",
    "\n",
    "  # Create a set of all the numbers in the array.\n",
    "  num_set = set(nums)\n",
    "\n",
    "  # Find the size of the set.\n",
    "  n = len(num_set)\n",
    "\n",
    "  # Find the sum of all the numbers from 1 to n.\n",
    "  sum_of_all_numbers = (n * (n + 1)) // 2\n",
    "\n",
    "  # Find the sum of all the numbers in the array.\n",
    "  sum_of_numbers_in_array = sum(nums)\n",
    "\n",
    "  # Find the duplicate number.\n",
    "  duplicate_number = sum_of_all_numbers - sum_of_numbers_in_array\n",
    "\n",
    "  # Find the missing number.\n",
    "  missing_number = n + 1 - duplicate_number\n",
    "\n",
    "  return [duplicate_number, missing_number]\n"
   ]
  },
  {
   "cell_type": "code",
   "execution_count": 26,
   "id": "ec2fb4a6",
   "metadata": {},
   "outputs": [
    {
     "name": "stdout",
     "output_type": "stream",
     "text": [
      "-3 7\n"
     ]
    }
   ],
   "source": [
    "nums = [1, 2, 2, 4]\n",
    "\n",
    "duplicate_number, missing_number = find_duplicate_and_missing(nums)\n",
    "\n",
    "print(duplicate_number, missing_number)\n"
   ]
  },
  {
   "cell_type": "code",
   "execution_count": null,
   "id": "3c613a80",
   "metadata": {},
   "outputs": [],
   "source": []
  }
 ],
 "metadata": {
  "kernelspec": {
   "display_name": "Python 3 (ipykernel)",
   "language": "python",
   "name": "python3"
  },
  "language_info": {
   "codemirror_mode": {
    "name": "ipython",
    "version": 3
   },
   "file_extension": ".py",
   "mimetype": "text/x-python",
   "name": "python",
   "nbconvert_exporter": "python",
   "pygments_lexer": "ipython3",
   "version": "3.9.12"
  }
 },
 "nbformat": 4,
 "nbformat_minor": 5
}
